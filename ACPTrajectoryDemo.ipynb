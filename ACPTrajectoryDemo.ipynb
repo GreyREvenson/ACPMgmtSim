{
 "cells": [
  {
   "cell_type": "markdown",
   "id": "c092c274-d1ff-41b2-8ce0-707decb145ec",
   "metadata": {},
   "source": [
    "# Initialization"
   ]
  },
  {
   "cell_type": "markdown",
   "id": "65db8fa1-2630-48e0-ade2-296f7409e6dc",
   "metadata": {},
   "source": [
    "###### Load libraries"
   ]
  },
  {
   "cell_type": "code",
   "execution_count": 1,
   "id": "2ff34dc3-a530-448f-9b3f-93c8aaf32250",
   "metadata": {},
   "outputs": [],
   "source": [
    "import os,sys,ACPTrajectoryData,ACPTrajectory"
   ]
  },
  {
   "cell_type": "markdown",
   "id": "444eaa30-27f8-42a8-9108-0327395a13a5",
   "metadata": {},
   "source": [
    "###### full path to namelist file"
   ]
  },
  {
   "cell_type": "code",
   "execution_count": 2,
   "id": "c2527f52-353a-43c9-9cfc-5221c56be400",
   "metadata": {},
   "outputs": [
    {
     "data": {
      "text/html": [
       "\n",
       "            <style>\n",
       "                .geemap-dark {\n",
       "                    --jp-widgets-color: white;\n",
       "                    --jp-widgets-label-color: white;\n",
       "                    --jp-ui-font-color1: white;\n",
       "                    --jp-layout-color2: #454545;\n",
       "                    background-color: #383838;\n",
       "                }\n",
       "\n",
       "                .geemap-dark .jupyter-button {\n",
       "                    --jp-layout-color3: #383838;\n",
       "                }\n",
       "\n",
       "                .geemap-colab {\n",
       "                    background-color: var(--colab-primary-surface-color, white);\n",
       "                }\n",
       "\n",
       "                .geemap-colab .jupyter-button {\n",
       "                    --jp-layout-color3: var(--colab-primary-surface-color, white);\n",
       "                }\n",
       "            </style>\n",
       "            "
      ],
      "text/plain": [
       "<IPython.core.display.HTML object>"
      ]
     },
     "metadata": {},
     "output_type": "display_data"
    }
   ],
   "source": [
    "fname_namelist = r'C:\\Users\\GEVENSON\\GitHub\\simMgmtTrajectory\\namelist.txt'"
   ]
  },
  {
   "cell_type": "markdown",
   "id": "ba8e5e2f-e304-41c2-9ebc-f93d4eeb40fa",
   "metadata": {},
   "source": [
    "###### init namelist"
   ]
  },
  {
   "cell_type": "code",
   "execution_count": 3,
   "id": "e49b51cd-f8cf-4fe0-b013-1c92f413f03c",
   "metadata": {},
   "outputs": [
    {
     "data": {
      "text/html": [
       "\n",
       "            <style>\n",
       "                .geemap-dark {\n",
       "                    --jp-widgets-color: white;\n",
       "                    --jp-widgets-label-color: white;\n",
       "                    --jp-ui-font-color1: white;\n",
       "                    --jp-layout-color2: #454545;\n",
       "                    background-color: #383838;\n",
       "                }\n",
       "\n",
       "                .geemap-dark .jupyter-button {\n",
       "                    --jp-layout-color3: #383838;\n",
       "                }\n",
       "\n",
       "                .geemap-colab {\n",
       "                    background-color: var(--colab-primary-surface-color, white);\n",
       "                }\n",
       "\n",
       "                .geemap-colab .jupyter-button {\n",
       "                    --jp-layout-color3: var(--colab-primary-surface-color, white);\n",
       "                }\n",
       "            </style>\n",
       "            "
      ],
      "text/plain": [
       "<IPython.core.display.HTML object>"
      ]
     },
     "metadata": {},
     "output_type": "display_data"
    }
   ],
   "source": [
    "acpnamelist = ACPTrajectoryData.ACPNamelist(fname_namelist)"
   ]
  },
  {
   "cell_type": "markdown",
   "id": "2c2f23f0-0d23-4331-8bff-49d39748d484",
   "metadata": {},
   "source": [
    "###### init data"
   ]
  },
  {
   "cell_type": "code",
   "execution_count": 4,
   "id": "eee89b8c-6165-4777-8709-bd36dfcdf171",
   "metadata": {},
   "outputs": [
    {
     "data": {
      "text/html": [
       "\n",
       "            <style>\n",
       "                .geemap-dark {\n",
       "                    --jp-widgets-color: white;\n",
       "                    --jp-widgets-label-color: white;\n",
       "                    --jp-ui-font-color1: white;\n",
       "                    --jp-layout-color2: #454545;\n",
       "                    background-color: #383838;\n",
       "                }\n",
       "\n",
       "                .geemap-dark .jupyter-button {\n",
       "                    --jp-layout-color3: #383838;\n",
       "                }\n",
       "\n",
       "                .geemap-colab {\n",
       "                    background-color: var(--colab-primary-surface-color, white);\n",
       "                }\n",
       "\n",
       "                .geemap-colab .jupyter-button {\n",
       "                    --jp-layout-color3: var(--colab-primary-surface-color, white);\n",
       "                }\n",
       "            </style>\n",
       "            "
      ],
      "text/plain": [
       "<IPython.core.display.HTML object>"
      ]
     },
     "metadata": {},
     "output_type": "display_data"
    }
   ],
   "source": [
    "acpdata = ACPTrajectoryData.ACPData(acpnamelist)"
   ]
  },
  {
   "cell_type": "markdown",
   "id": "a8fdf00f-f1d6-4187-af98-717c6c0ec3ee",
   "metadata": {},
   "source": [
    "###### init test trajectory"
   ]
  },
  {
   "cell_type": "code",
   "execution_count": 5,
   "id": "7451dc28-c3d5-493d-b060-76f63ef387bb",
   "metadata": {},
   "outputs": [
    {
     "data": {
      "text/html": [
       "\n",
       "            <style>\n",
       "                .geemap-dark {\n",
       "                    --jp-widgets-color: white;\n",
       "                    --jp-widgets-label-color: white;\n",
       "                    --jp-ui-font-color1: white;\n",
       "                    --jp-layout-color2: #454545;\n",
       "                    background-color: #383838;\n",
       "                }\n",
       "\n",
       "                .geemap-dark .jupyter-button {\n",
       "                    --jp-layout-color3: #383838;\n",
       "                }\n",
       "\n",
       "                .geemap-colab {\n",
       "                    background-color: var(--colab-primary-surface-color, white);\n",
       "                }\n",
       "\n",
       "                .geemap-colab .jupyter-button {\n",
       "                    --jp-layout-color3: var(--colab-primary-surface-color, white);\n",
       "                }\n",
       "            </style>\n",
       "            "
      ],
      "text/plain": [
       "<IPython.core.display.HTML object>"
      ]
     },
     "metadata": {},
     "output_type": "display_data"
    }
   ],
   "source": [
    "acptrajectory = ACPTrajectory.ACPTrajectory(name='test',acpdata=acpdata)"
   ]
  }
 ],
 "metadata": {
  "kernelspec": {
   "display_name": "Python 3 (ipykernel)",
   "language": "python",
   "name": "python3"
  },
  "language_info": {
   "codemirror_mode": {
    "name": "ipython",
    "version": 3
   },
   "file_extension": ".py",
   "mimetype": "text/x-python",
   "name": "python",
   "nbconvert_exporter": "python",
   "pygments_lexer": "ipython3",
   "version": "3.13.1"
  }
 },
 "nbformat": 4,
 "nbformat_minor": 5
}
